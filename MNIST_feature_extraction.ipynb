{
 "cells": [
  {
   "cell_type": "markdown",
   "metadata": {},
   "source": [
    "# 1.Feature Extraction"
   ]
  },
  {
   "cell_type": "markdown",
   "metadata": {},
   "source": [
    "## Loading images"
   ]
  },
  {
   "cell_type": "code",
   "execution_count": null,
   "metadata": {},
   "outputs": [],
   "source": [
    "#imports\n",
    "import numpy as np\n",
    "import matplotlib.pyplot as plt\n",
    "import glob\n",
    "import time\n",
    "import cv2\n",
    "from sklearn.decomposition import PCA\n",
    "import skimage.measure\n",
    "\n",
    "#set rand seed\n",
    "np.random.seed(0)\n"
   ]
  },
  {
   "cell_type": "code",
   "execution_count": null,
   "metadata": {},
   "outputs": [],
   "source": [
    "#load paths\n",
    "train_paths = glob.glob('Reduced MNIST Data/Reduced Trainging data/*/*')\n",
    "test_paths = glob.glob('Reduced MNIST Data/Reduced Testing data/*/*')"
   ]
  },
  {
   "cell_type": "code",
   "execution_count": null,
   "metadata": {},
   "outputs": [],
   "source": [
    "len(train_paths),len(test_paths)"
   ]
  },
  {
   "cell_type": "code",
   "execution_count": null,
   "metadata": {},
   "outputs": [],
   "source": [
    "#load images\n",
    "train_imgs = np.zeros((10000,28,28))\n",
    "for i,path in enumerate(train_paths):\n",
    "    img = cv2.imread(path, cv2.IMREAD_GRAYSCALE)\n",
    "    train_imgs[i] = img\n",
    "    \n",
    "test_imgs = np.zeros((2000,28,28))\n",
    "for i,path in enumerate(test_paths):\n",
    "    img = cv2.imread(path, cv2.IMREAD_GRAYSCALE)\n",
    "    test_imgs[i] = img"
   ]
  },
  {
   "cell_type": "code",
   "execution_count": 6,
   "metadata": {},
   "outputs": [
    {
     "data": {
      "image/png": "[encoded data removed]",
      "text/plain": [
       "<Figure size 432x288 with 1 Axes>"
      ]
     },
     "metadata": {
      "needs_background": "light"
     },
     "output_type": "display_data"
    }
   ],
   "source": [
    "#view a sample\n",
    "plt.imshow(train_imgs[5]);"
   ]
  },
  {
   "cell_type": "markdown",
   "metadata": {},
   "source": [
    "## Extracting features"
   ]
  },
  {
   "cell_type": "markdown",
   "metadata": {},
   "source": [
    "### PCA"
   ]
  },
  {
   "cell_type": "code",
   "execution_count": 7,
   "metadata": {},
   "outputs": [
    {
     "name": "stdout",
     "output_type": "stream",
     "text": [
      "variance =  0.9003751809593754\n",
      "New number of dimensions =  167\n"
     ]
    }
   ],
   "source": [
    "#train\n",
    "pca = PCA(n_components=0.90)\n",
    "train_pca = pca.fit_transform(train_imgs.reshape(10000,-1))\n",
    "print(\"variance = \",pca.explained_variance_ratio_.sum())\n",
    "print(\"New number of dimensions = \",train_pca.shape[-1])"
   ]
  },
  {
   "cell_type": "code",
   "execution_count": 8,
   "metadata": {},
   "outputs": [],
   "source": [
    "#test\n",
    "startTime = time.time()\n",
    "test_pca = pca.transform(test_imgs.reshape(2000,-1))\n",
    "pca_time = time.time() - startTime"
   ]
  },
  {
   "cell_type": "markdown",
   "metadata": {},
   "source": [
    "### DCT"
   ]
  },
  {
   "cell_type": "code",
   "execution_count": 9,
   "metadata": {},
   "outputs": [],
   "source": [
    "#get zegzag mask to reduce number of features of DCT\n",
    "def get_low_freq_zigzag_mask(m,number_of_features):\n",
    "    a = np.arange(0,m*m).reshape(m,m)\n",
    "    a_zigzag = np.concatenate([np.diagonal(a[::-1,:], i)[::(2*((i-m%2) % 2)-1)] for i in range(1-m, m)])\n",
    "    a_zigzag_cut = a_zigzag[:number_of_features]\n",
    "    mask = np.isin(a,a_zigzag_cut)\n",
    "    return mask\n",
    "mask = get_low_freq_zigzag_mask(28,200)"
   ]
  },
  {
   "cell_type": "code",
   "execution_count": 10,
   "metadata": {},
   "outputs": [
    {
     "data": {
      "image/png": "[encoded data removed]",
      "text/plain": [
       "<Figure size 432x288 with 1 Axes>"
      ]
     },
     "metadata": {
      "needs_background": "light"
     },
     "output_type": "display_data"
    }
   ],
   "source": [
    "plt.imshow(mask);"
   ]
  },
  {
   "cell_type": "code",
   "execution_count": 11,
   "metadata": {},
   "outputs": [],
   "source": [
    "#train\n",
    "train_dct = np.zeros((10000,200))\n",
    "for i,img in enumerate(train_imgs):\n",
    "    img_dct = cv2.dct(np.cast['float32'](img))\n",
    "    features = img_dct[mask] \n",
    "    train_dct[i,:] = features"
   ]
  },
  {
   "cell_type": "code",
   "execution_count": 12,
   "metadata": {},
   "outputs": [],
   "source": [
    "#test\n",
    "startTime = time.time()\n",
    "\n",
    "test_dct = np.zeros((2000,200))\n",
    "for i,img in enumerate(test_imgs):\n",
    "    img_dct = cv2.dct(np.cast['float32'](img))\n",
    "    features = img_dct[mask] \n",
    "    test_dct[i,:] = features\n",
    "dct_time = time.time() - startTime"
   ]
  },
  {
   "cell_type": "markdown",
   "metadata": {},
   "source": [
    "### Pooling images"
   ]
  },
  {
   "cell_type": "code",
   "execution_count": 13,
   "metadata": {},
   "outputs": [],
   "source": [
    "#train\n",
    "train_pool = np.zeros((10000,196))\n",
    "for i,img in enumerate(train_imgs):\n",
    "    img_pool = skimage.measure.block_reduce(img, (2,2), np.mean)\n",
    "    train_pool[i,:] = img_pool.reshape(-1)"
   ]
  },
  {
   "cell_type": "code",
   "execution_count": 14,
   "metadata": {},
   "outputs": [],
   "source": [
    "#test\n",
    "startTime = time.time()\n",
    "\n",
    "test_pool = np.zeros((2000,196))\n",
    "for i,img in enumerate(test_imgs):\n",
    "    img_pool = skimage.measure.block_reduce(img, (2,2), np.mean)\n",
    "    test_pool[i,:] = img_pool.reshape(-1)\n",
    "pool_time = time.time() - startTime"
   ]
  },
  {
   "cell_type": "markdown",
   "metadata": {},
   "source": [
    "### Edge detection"
   ]
  },
  {
   "cell_type": "code",
   "execution_count": 15,
   "metadata": {},
   "outputs": [],
   "source": [
    "#train\n",
    "features_len = []\n",
    "train_edge = np.zeros((10000,2,200))\n",
    "for i,path in enumerate(train_paths):\n",
    "    img = cv2.imread(path)\n",
    "    canny = cv2.Canny(img,100,200)\n",
    "    features = list(np.where(canny>0))\n",
    "    length = features[0].shape[0]\n",
    "    features_len.append(length)\n",
    "    train_edge[i,:,:length] = features\n",
    "    \n",
    "max_len = max(features_len)\n",
    "train_edge = train_edge[:,:,:max_len].reshape(10000,-1)"
   ]
  },
  {
   "cell_type": "code",
   "execution_count": 16,
   "metadata": {},
   "outputs": [],
   "source": [
    "#test\n",
    "startTime = time.time()\n",
    "\n",
    "test_edge = np.zeros((2000,2,200))\n",
    "for i,path in enumerate(test_paths):\n",
    "    img = cv2.imread(path)\n",
    "    canny = cv2.Canny(img,100,200)\n",
    "    features = list(np.where(canny>0))\n",
    "    length = features[0].shape[0]\n",
    "    test_edge[i,:,:length] = features\n",
    "test_edge = test_edge.reshape(2000,-1)\n",
    "edge_time = time.time() - startTime"
   ]
  },
  {
   "cell_type": "code",
   "execution_count": 17,
   "metadata": {},
   "outputs": [
    {
     "data": {
      "image/png": "[encoded data removed]",
      "text/plain": [
       "<Figure size 432x288 with 1 Axes>"
      ]
     },
     "metadata": {
      "needs_background": "light"
     },
     "output_type": "display_data"
    }
   ],
   "source": [
    "#show a sample \n",
    "pts = train_edge[100]\n",
    "img = np.zeros((28,28))\n",
    "img[(pts[:max_len].astype('int'),pts[max_len:].astype('int'))] = 255\n",
    "plt.imshow(img);"
   ]
  },
  {
   "cell_type": "code",
   "execution_count": null,
   "metadata": {},
   "outputs": [],
   "source": []
  }
 ],
 "metadata": {
  "kernelspec": {
   "display_name": "Python 3 (ipykernel)",
   "language": "python",
   "name": "python3"
  },
  "language_info": {
   "codemirror_mode": {
    "name": "ipython",
    "version": 3
   },
   "file_extension": ".py",
   "mimetype": "text/x-python",
   "name": "python",
   "nbconvert_exporter": "python",
   "pygments_lexer": "ipython3",
   "version": "3.10.9"
  }
 },
 "nbformat": 4,
 "nbformat_minor": 4
}
